{
  "nbformat": 4,
  "nbformat_minor": 0,
  "metadata": {
    "colab": {
      "name": "AnnaShi Homework #1.ipynb",
      "provenance": [],
      "collapsed_sections": []
    },
    "kernelspec": {
      "name": "python3",
      "display_name": "Python 3"
    },
    "language_info": {
      "name": "python"
    }
  },
  "cells": [
    {
      "cell_type": "code",
      "metadata": {
        "id": "0JeHs-IHiEBG"
      },
      "source": [
        ""
      ],
      "execution_count": null,
      "outputs": []
    },
    {
      "cell_type": "markdown",
      "metadata": {
        "id": "xriLBarAihMm"
      },
      "source": [
        "1. (10 pts) Print() \"I love Machine Learning and AI!\" and another that appends your name to the end of that string. "
      ]
    },
    {
      "cell_type": "code",
      "metadata": {
        "colab": {
          "base_uri": "https://localhost:8080/"
        },
        "id": "TOlwWDOriuP_",
        "outputId": "24244a55-9ad1-4235-c74f-80e619566286"
      },
      "source": [
        "string_1= \"I love Machine Learning and AI!\"\n",
        "my_first_name = \"Anna\"\n",
        "my_last_name = \"Shi\"\n",
        "print(string_1)\n",
        "print(my_first_name + \" \" +my_last_name)"
      ],
      "execution_count": 5,
      "outputs": [
        {
          "output_type": "stream",
          "name": "stdout",
          "text": [
            "I love Machine Learning and AI!\n",
            "Anna Shi\n"
          ]
        }
      ]
    },
    {
      "cell_type": "markdown",
      "metadata": {
        "id": "-XcvflVCkIT3"
      },
      "source": [
        "2. (10 pts) Input() your friend's name and then create an output that tells your friend any friendly greeting! (e.g. \"Hi Susan, very nice to meet you!\") "
      ]
    },
    {
      "cell_type": "code",
      "metadata": {
        "colab": {
          "base_uri": "https://localhost:8080/"
        },
        "id": "0Ux7AQRykSgS",
        "outputId": "2512ac31-b62c-448a-a612-ed9efc48ec8d"
      },
      "source": [
        "print(\"Hi\" +\" \" + input()+ \",\" + \" \" + \"very nice to meet you!\")\n"
      ],
      "execution_count": 15,
      "outputs": [
        {
          "output_type": "stream",
          "name": "stdout",
          "text": [
            "Susan\n",
            "Hi Susan, very nice to meet you!\n"
          ]
        }
      ]
    },
    {
      "cell_type": "markdown",
      "metadata": {
        "id": "UazRc41omP4P"
      },
      "source": [
        "3. (10 pts) Create a variable of type integer, float, string, and boolean. Print out each of these variables, and confirm that they are of the desired type."
      ]
    },
    {
      "cell_type": "code",
      "metadata": {
        "id": "nBeoPnMjlqlA"
      },
      "source": [
        ""
      ],
      "execution_count": null,
      "outputs": []
    },
    {
      "cell_type": "code",
      "metadata": {
        "colab": {
          "base_uri": "https://localhost:8080/"
        },
        "id": "ix3aiC39mUhL",
        "outputId": "fd3b53c1-2969-4918-f7ee-cba5786e8609"
      },
      "source": [
        "x=12\n",
        "y=1.234\n",
        "z=\"Hello\"\n",
        "q=True\n",
        "print(type(x), type(y), type(z), type(q))"
      ],
      "execution_count": 18,
      "outputs": [
        {
          "output_type": "stream",
          "name": "stdout",
          "text": [
            "<class 'int'> <class 'float'> <class 'str'> <class 'bool'>\n"
          ]
        }
      ]
    },
    {
      "cell_type": "markdown",
      "metadata": {
        "id": "DnjxrWAgnE2C"
      },
      "source": [
        "4. (10 pts) Create a loop, that counts to from zero to ten, printing out \"1 - hello\", \"2 - hello\", \"3 - hello\", ... , \"10 - hello!\" "
      ]
    },
    {
      "cell_type": "code",
      "metadata": {
        "colab": {
          "base_uri": "https://localhost:8080/"
        },
        "id": "SPOBwm4-nJsA",
        "outputId": "74991429-c811-4716-ed04-2376bb119e02"
      },
      "source": [
        "values= range(10)\n",
        "x=0\n",
        "for x in values: \n",
        "  x=x+1\n",
        "  print(str(x) + \"-\" + \"hello\")\n"
      ],
      "execution_count": 22,
      "outputs": [
        {
          "output_type": "stream",
          "name": "stdout",
          "text": [
            "1-hello\n",
            "2-hello\n",
            "3-hello\n",
            "4-hello\n",
            "5-hello\n",
            "6-hello\n",
            "7-hello\n",
            "8-hello\n",
            "9-hello\n",
            "10-hello\n"
          ]
        }
      ]
    },
    {
      "cell_type": "markdown",
      "metadata": {
        "id": "qRSnJg11oLDU"
      },
      "source": [
        "5. (20 pts) Import any Python library/module and show that you can use one function from that library/module\n",
        "(Hint see: https://www.tutorialspoint.com/python/python_modules.htm, if it doesn't exist try [!pip install](https://colab.research.google.com/notebooks/snippets/importing_libraries.ipynb).) "
      ]
    },
    {
      "cell_type": "code",
      "metadata": {
        "colab": {
          "base_uri": "https://localhost:8080/"
        },
        "id": "dZ_2ivEyoP4R",
        "outputId": "518ec4c1-9ae5-4be0-ffa7-c65e14c8d018"
      },
      "source": [
        "import random\n",
        "import math\n",
        "for i in range(10):\n",
        "  print(random.randint(1,25))\n",
        "print(math.pi)"
      ],
      "execution_count": 29,
      "outputs": [
        {
          "output_type": "stream",
          "name": "stdout",
          "text": [
            "19\n",
            "5\n",
            "19\n",
            "8\n",
            "11\n",
            "2\n",
            "11\n",
            "4\n",
            "11\n",
            "4\n",
            "3.141592653589793\n"
          ]
        }
      ]
    },
    {
      "cell_type": "markdown",
      "metadata": {
        "id": "JFRejsSXqlr0"
      },
      "source": [
        "6. (20 pts)Plot the [derivative](https://en.wikipedia.org/wiki/Derivative) of the three functions above: 1) Sigmoid, 2) Hyperbolic Tangent, and 3) ReLu. (Hint see: https://en.wikipedia.org/wiki/Activation_function)"
      ]
    },
    {
      "cell_type": "code",
      "metadata": {
        "colab": {
          "base_uri": "https://localhost:8080/",
          "height": 282
        },
        "id": "Pux4OAYvqqao",
        "outputId": "94be26ab-5e0e-43c3-f267-e016087a744b"
      },
      "source": [
        "import matplotlib.pyplot as plt\n",
        "import numpy as np\n",
        "\n",
        "def sigmoid(x):\n",
        "    s = 1/(1+np.exp(-x))   \n",
        "    return s\n",
        "\n",
        "def sigmoid_derivative(x):\n",
        "    s = sigmoid(x)\n",
        "    ds = s*(1-s)\n",
        "    return ds\n",
        "\n",
        "x = np.arange(-10,10,0.1)\n",
        "y = sigmoid(x)\n",
        "plt.yticks([0.0, 0.5, 1.0])\n",
        "ax = plt.gca()\n",
        "ax.yaxis.grid(True)\n",
        "plt.axvline(0.0, color='k')\n",
        "\n",
        "plt.plot(x,sigmoid_derivative(x),'g')"
      ],
      "execution_count": 124,
      "outputs": [
        {
          "output_type": "execute_result",
          "data": {
            "text/plain": [
              "[<matplotlib.lines.Line2D at 0x7f267164fe90>]"
            ]
          },
          "metadata": {},
          "execution_count": 124
        },
        {
          "output_type": "display_data",
          "data": {
            "image/png": "[encoded data removed]",
            "text/plain": [
              "<Figure size 432x288 with 1 Axes>"
            ]
          },
          "metadata": {
            "needs_background": "light"
          }
        }
      ]
    },
    {
      "cell_type": "code",
      "metadata": {
        "colab": {
          "base_uri": "https://localhost:8080/",
          "height": 282
        },
        "id": "E2AH2SZA0E2T",
        "outputId": "e6376ffe-1acd-4bf9-c3db-cfc2f955ea5d"
      },
      "source": [
        "import matplotlib.pyplot as plt\n",
        "import numpy as np\n",
        "\n",
        "def tanh(x):\n",
        "  t=(np.exp(x)-np.exp(-x))/(np.exp(x)+np.exp(-x))\n",
        "  return t\n",
        "\n",
        "def tanh_derivative(x):\n",
        "  t=tanh(x)\n",
        "  dt=1-t**2\n",
        "  return dt\n",
        "\n",
        "x= np.arange(-10,10,0.1)\n",
        "\n",
        "plt.plot(x,tanh_derivative(x),'r')"
      ],
      "execution_count": 128,
      "outputs": [
        {
          "output_type": "execute_result",
          "data": {
            "text/plain": [
              "[<matplotlib.lines.Line2D at 0x7f26714eb850>]"
            ]
          },
          "metadata": {},
          "execution_count": 128
        },
        {
          "output_type": "display_data",
          "data": {
            "image/png": "[encoded data removed]",
            "text/plain": [
              "<Figure size 432x288 with 1 Axes>"
            ]
          },
          "metadata": {
            "needs_background": "light"
          }
        }
      ]
    },
    {
      "cell_type": "code",
      "metadata": {
        "colab": {
          "base_uri": "https://localhost:8080/",
          "height": 265
        },
        "id": "vLlhfmwP17Jh",
        "outputId": "17a30241-d099-4f01-fb68-a40581a59862"
      },
      "source": [
        "import matplotlib.pyplot as plt\n",
        "import numpy as np\n",
        "\n",
        "def ReLu_derivative(x):\n",
        "  return 1 if x>0 else 0\n",
        "  \n",
        "xs= np.arange(-10,10,0.1)\n",
        "ys = []\n",
        "for x in xs:\n",
        "  ys.append(ReLu_derivative(x))\n",
        "ax = plt.gca()\n",
        "ax.yaxis.grid(True)\n",
        "plt.axvline(0.0, color='k')\n",
        "plt.plot(xs, ys)\n",
        "plt.show()\n"
      ],
      "execution_count": 131,
      "outputs": [
        {
          "output_type": "display_data",
          "data": {
            "image/png": "[encoded data removed]",
            "text/plain": [
              "<Figure size 432x288 with 1 Axes>"
            ]
          },
          "metadata": {
            "needs_background": "light"
          }
        }
      ]
    },
    {
      "cell_type": "markdown",
      "metadata": {
        "id": "envmwGtO6M2h"
      },
      "source": [
        "7. (20 pts) Plot three other activation functions and their derivatives. Describe the behavior of the range for domains of large negative values, large positive values, at the zero value, for the three activation functions and their derivatives. Use your own words. "
      ]
    },
    {
      "cell_type": "code",
      "metadata": {
        "colab": {
          "base_uri": "https://localhost:8080/",
          "height": 513
        },
        "id": "j87Taqn26Ray",
        "outputId": "56cd827e-1189-40d6-be63-6740054b322f"
      },
      "source": [
        "# Identity \n",
        "\n",
        "import matplotlib.pyplot as plt\n",
        "import numpy as np\n",
        "\n",
        "# Identity function\n",
        "def identity(x):\n",
        "  return x\n",
        "\n",
        "x = np.arange(-10,10,1)\n",
        "y = identity(x)\n",
        "plt.yticks([-10, 0, 10])\n",
        "ax = plt.gca()\n",
        "ax.yaxis.grid(True)\n",
        "plt.axvline(0.0, color='k')\n",
        "plt.plot(x, y)\n",
        "plt.show()\n",
        "\n",
        "# Identity derivative\n",
        "def identity_derivative(x):\n",
        "  return 1\n",
        "xs = np.arange(-10,10,1)\n",
        "ys = []\n",
        "for x in xs:\n",
        "  ys.append(identity_derivative(x))\n",
        "plt.yticks([-10, 1, 10])\n",
        "ax = plt.gca()\n",
        "ax.yaxis.grid(True)\n",
        "plt.axvline(0.0, color='k')\n",
        "plt.plot(xs, ys)\n",
        "plt.show()\n",
        "\n",
        "# For identity function, its value is from negative infinity to positive infinity. At zero, the value is zero. \n",
        "# For its derivative, the value is always 1. "
      ],
      "execution_count": 141,
      "outputs": [
        {
          "output_type": "display_data",
          "data": {
            "image/png": "[encoded data removed]",
            "text/plain": [
              "<Figure size 432x288 with 1 Axes>"
            ]
          },
          "metadata": {
            "needs_background": "light"
          }
        },
        {
          "output_type": "display_data",
          "data": {
            "image/png": "[encoded data removed]",
            "text/plain": [
              "<Figure size 432x288 with 1 Axes>"
            ]
          },
          "metadata": {
            "needs_background": "light"
          }
        }
      ]
    },
    {
      "cell_type": "code",
      "metadata": {
        "colab": {
          "base_uri": "https://localhost:8080/",
          "height": 513
        },
        "id": "dmvkCx5F8xyd",
        "outputId": "8365cc7f-8bc1-48d9-cc74-03920d16d2ce"
      },
      "source": [
        "# leaky ReLu \n",
        "import matplotlib.pyplot as plt\n",
        "import numpy as np\n",
        "\n",
        "# leaky ReLu function\n",
        "def leaky(x):\n",
        "  if x<0:\n",
        "    return 0.01*x\n",
        "  else:\n",
        "    return x\n",
        "xs = np.arange(-10,10,0.1)\n",
        "ys = []\n",
        "for x in xs:\n",
        "  ys.append(leaky(x))\n",
        "plt.yticks([-10, 1, 10])\n",
        "ax = plt.gca()\n",
        "ax.yaxis.grid(True)\n",
        "plt.axvline(0.0, color='k')\n",
        "plt.plot(xs, ys)\n",
        "plt.show()\n",
        "\n",
        "# leaky ReLu derivative \n",
        "def leaky_deriv(x):\n",
        "  if x<0:\n",
        "    return 0.01\n",
        "  else:\n",
        "    return 1\n",
        "xs = np.arange(-10,10,0.1)\n",
        "ys = []\n",
        "for x in xs:\n",
        "  ys.append(leaky_deriv(x))\n",
        "plt.yticks([-10, 1, 10])\n",
        "ax = plt.gca()\n",
        "ax.yaxis.grid(True)\n",
        "plt.axvline(0.0, color='k')\n",
        "plt.plot(xs, ys)\n",
        "plt.show() \n",
        "\n",
        "# for leaky ReLu function, the range is from negative infinity to positive infinity. At zero, the value is 0. \n",
        "# for leaky Relu derivative function, the range is from 0.01 to 1. At zero, the value is 1. "
      ],
      "execution_count": 154,
      "outputs": [
        {
          "output_type": "display_data",
          "data": {
            "image/png": "[encoded data removed]",
            "text/plain": [
              "<Figure size 432x288 with 1 Axes>"
            ]
          },
          "metadata": {
            "needs_background": "light"
          }
        },
        {
          "output_type": "display_data",
          "data": {
            "image/png": "[encoded data removed]",
            "text/plain": [
              "<Figure size 432x288 with 1 Axes>"
            ]
          },
          "metadata": {
            "needs_background": "light"
          }
        }
      ]
    },
    {
      "cell_type": "code",
      "metadata": {
        "colab": {
          "base_uri": "https://localhost:8080/",
          "height": 513
        },
        "id": "9bdSg9Go_J_M",
        "outputId": "dbe4b3f5-cfd8-4d78-c096-64952afcf9be"
      },
      "source": [
        "# GCU \n",
        "import matplotlib.pyplot as plt\n",
        "import numpy as np\n",
        "import math \n",
        "\n",
        "# GCU function \n",
        "xs = np.arange(-10,10,0.1)\n",
        "ys = []\n",
        "for x in xs:\n",
        "  ys.append((x*math.cos(x)))\n",
        "plt.yticks([-10, 0, 10])\n",
        "ax = plt.gca()\n",
        "ax.yaxis.grid(True)\n",
        "plt.axvline(0.0, color='k')\n",
        "plt.plot(xs, ys)\n",
        "plt.show() \n",
        "\n",
        "#GCU derivitive \n",
        "xs = np.arange(-10,10,0.1)\n",
        "ys = []\n",
        "for x in xs:\n",
        "  ys.append((math.cos(x)-x*math.sin(x)))\n",
        "plt.yticks([-10, 1, 10])\n",
        "ax = plt.gca()\n",
        "ax.yaxis.grid(True)\n",
        "plt.axvline(0.0, color='k')\n",
        "plt.plot(xs, ys)\n",
        "plt.show() \n",
        "\n",
        "# for GCU function, the range is from negative infinity to positive infinity. At zero, the value is 0. \n",
        "# for GCU derivitive function, the range is from negative infinity to positive infinity. At zero, the value is 1"
      ],
      "execution_count": 158,
      "outputs": [
        {
          "output_type": "display_data",
          "data": {
            "image/png": "[encoded data removed]",
            "text/plain": [
              "<Figure size 432x288 with 1 Axes>"
            ]
          },
          "metadata": {
            "needs_background": "light"
          }
        },
        {
          "output_type": "display_data",
          "data": {
            "image/png": "[encoded data removed]",
            "text/plain": [
              "<Figure size 432x288 with 1 Axes>"
            ]
          },
          "metadata": {
            "needs_background": "light"
          }
        }
      ]
    }
  ]
}